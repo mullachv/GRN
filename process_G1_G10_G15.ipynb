{
 "cells": [
  {
   "cell_type": "code",
   "execution_count": 1,
   "metadata": {
    "collapsed": true
   },
   "outputs": [],
   "source": [
    "%matplotlib inline\n",
    "import matplotlib.pyplot as plt\n",
    "import numpy as np\n",
    "import heapq\n",
    "import pandas as pd\n"
   ]
  },
  {
   "cell_type": "code",
   "execution_count": 98,
   "metadata": {
    "collapsed": true
   },
   "outputs": [],
   "source": [
    "def sq_err(a, b):\n",
    "    assert(a.shape == b.shape)\n",
    "    return (sum(np.square(a - b)))\n",
    "\n",
    "def mse_err(a, b):\n",
    "    return sq_err(a, b) * 1.0 / a.shape[0]\n",
    "\n",
    "def items_by_sqe(x, items):\n",
    "    items_heap = []\n",
    "    for i, item in enumerate(items):\n",
    "        if sum(item) == 0:\n",
    "            continue\n",
    "        heapq.heappush(items_heap, (sq_err(x, item), i))\n",
    "    return items_heap\n",
    "\n",
    "def read_genelist():\n",
    "    return pd.DataFrame.from_csv('./data/genelist.csv')\n",
    "\n",
    "def read_csv(item):\n",
    "    df_train = pd.DataFrame.from_csv('./data/' + item + '_Train_SteadyState.csv')\n",
    "    df_test = pd.DataFrame.from_csv('./data/' + item + '_Test_SteadyState.csv')\n",
    "    return df_train, df_test\n",
    "\n",
    "def save_top3(df_plot, y_pred, indices, gene, train_test='train'):\n",
    "    fig = plt.figure()\n",
    "    ax = df_plot.iloc[:, np.append(indices, 100)].plot() #100 is yt, the correct value\n",
    "    if y_pred is not None:\n",
    "        ax.plot(y_pred, label='Predicted')\n",
    "    plt.savefig('./exp_results/figures/g1_g10_g15/' + train_test + '/' + gene + '_top3.png', bbox_inches='tight')\n",
    "    plt.close(fig)\n",
    "\n",
    "# from train and test dataframes\n",
    "# return X, y, Xt, yt\n",
    "def get_train_test(tr, te):\n",
    "    return tr.iloc[:, 0:100].values, \\\n",
    "            tr.iloc[:, 100].values, \\\n",
    "            te.iloc[:,0:100].values, \\\n",
    "            te.iloc[:, 100].values\n",
    "\n",
    "# Rows of training data that show suppression of any input Gene\n",
    "# def get_suppresed_row_indices(W):\n",
    "#     vals, _, counts = np.unique(np.where(W[:][:] == 0)[0], return_counts=True, return_index=True)\n",
    "#     return vals[counts == 2]\n",
    "\n",
    "def get_suppresed_genes_and_rows(W, cur_gene, df_genelist):\n",
    "    vals, _, counts = np.unique(np.where(W[:][:] == 0)[0], return_counts=True, return_index=True)\n",
    "\n",
    "    #Rows with exactly one other Gene suppression\n",
    "    rows = vals[counts==2]\n",
    "    \n",
    "    #Dataset of those rows\n",
    "    B = W[vals[counts==2]]\n",
    "    \n",
    "    #Genes with 0 values\n",
    "    D = np.where(B[:][:] == 0)[1]\n",
    "    \n",
    "    #Not the current gene\n",
    "    other_gene_indices = df_genelist.loc[df_genelist['0'] != cur_gene].index.values\n",
    "    \n",
    "    #print('other indx', other_gene_indices)\n",
    "    #print('d', D)\n",
    "    \n",
    "    # Suppressed genes\n",
    "    F = [x for x in D if x in other_gene_indices]\n",
    "    #print('f', F)\n",
    "    return np.reshape(df_genelist.iloc[F].values, (-1,)), rows\n",
    "\n"
   ]
  },
  {
   "cell_type": "code",
   "execution_count": 99,
   "metadata": {
    "collapsed": false
   },
   "outputs": [
    {
     "data": {
      "text/html": [
       "<div>\n",
       "<table border=\"1\" class=\"dataframe\">\n",
       "  <thead>\n",
       "    <tr style=\"text-align: right;\">\n",
       "      <th></th>\n",
       "      <th>0</th>\n",
       "    </tr>\n",
       "  </thead>\n",
       "  <tbody>\n",
       "    <tr>\n",
       "      <th>0</th>\n",
       "      <td>G1</td>\n",
       "    </tr>\n",
       "    <tr>\n",
       "      <th>1</th>\n",
       "      <td>G10</td>\n",
       "    </tr>\n",
       "    <tr>\n",
       "      <th>2</th>\n",
       "      <td>G15</td>\n",
       "    </tr>\n",
       "    <tr>\n",
       "      <th>3</th>\n",
       "      <td>G23</td>\n",
       "    </tr>\n",
       "    <tr>\n",
       "      <th>4</th>\n",
       "      <td>G25</td>\n",
       "    </tr>\n",
       "  </tbody>\n",
       "</table>\n",
       "</div>"
      ],
      "text/plain": [
       "     0\n",
       "0   G1\n",
       "1  G10\n",
       "2  G15\n",
       "3  G23\n",
       "4  G25"
      ]
     },
     "execution_count": 99,
     "metadata": {},
     "output_type": "execute_result"
    }
   ],
   "source": [
    "df_genelist = read_genelist()\n",
    "df_genelist.head() #df_genelist.head().values[0]"
   ]
  },
  {
   "cell_type": "code",
   "execution_count": 101,
   "metadata": {
    "collapsed": false
   },
   "outputs": [
    {
     "data": {
      "text/plain": [
       "(array(['G2', 'G4', 'G5', 'G6', 'G7', 'G8', 'G9', 'G10', 'G11', 'G12',\n",
       "        'G13', 'G14', 'G15', 'G16', 'G18', 'G19', 'G21', 'G22', 'G24',\n",
       "        'G25', 'G26', 'G28', 'G29', 'G30', 'G33', 'G34', 'G35', 'G36',\n",
       "        'G38', 'G40', 'G41', 'G42', 'G43', 'G44', 'G45', 'G46', 'G47',\n",
       "        'G48', 'G49', 'G50', 'G51', 'G52', 'G55', 'G56', 'G57', 'G58',\n",
       "        'G59', 'G61', 'G62', 'G63', 'G64', 'G65', 'G66', 'G67', 'G68',\n",
       "        'G70', 'G71', 'G72', 'G73', 'G74', 'G75', 'G76', 'G78', 'G79',\n",
       "        'G80', 'G81', 'G82', 'G83', 'G85', 'G86', 'G87', 'G88', 'G89',\n",
       "        'G90', 'G91', 'G92', 'G93', 'G94', 'G95', 'G96', 'G97', 'G98', 'G99'], dtype=object),\n",
       " array([ 2,  3,  4,  5,  6,  7,  8,  9, 10, 11, 12, 13, 14, 15, 16, 17, 18,\n",
       "        19, 20, 21, 22, 23, 24, 25, 26, 27, 28, 29, 30, 31, 32, 33, 34, 35,\n",
       "        36, 37, 38, 39, 40, 41, 42, 43, 44, 45, 46, 47, 48, 49, 50, 51, 52,\n",
       "        53, 54, 55, 56, 57, 58, 59, 60, 61, 62, 63, 64, 65, 66, 67, 68, 69,\n",
       "        70, 71, 72, 73, 74, 75, 76, 77, 78, 79, 80, 81, 82, 83, 84]))"
      ]
     },
     "execution_count": 101,
     "metadata": {},
     "output_type": "execute_result"
    }
   ],
   "source": [
    "### G1\n",
    "curr_gene = df_genelist.iloc[0]\n",
    "df_train, df_test = read_csv(curr_gene.values[0])\n",
    "X, y, Xt, yt = get_train_test(df_train, df_test)\n",
    "get_suppresed_genes_and_rows(X, curr_gene.values[0], df_genelist)\n",
    "#get_suppresed_genes_and_rows(X, 'G1', df_genelist.values )"
   ]
  },
  {
   "cell_type": "code",
   "execution_count": 102,
   "metadata": {
    "collapsed": false
   },
   "outputs": [
    {
     "data": {
      "text/plain": [
       "(array(['G1', 'G2', 'G4', 'G5', 'G6', 'G7', 'G8', 'G9', 'G11', 'G12', 'G13',\n",
       "        'G14', 'G15', 'G16', 'G18', 'G19', 'G21', 'G22', 'G24', 'G25',\n",
       "        'G26', 'G28', 'G29', 'G30', 'G33', 'G34', 'G35', 'G36', 'G38',\n",
       "        'G40', 'G41', 'G42', 'G43', 'G44', 'G45', 'G46', 'G47', 'G48',\n",
       "        'G49', 'G50', 'G51', 'G52', 'G55', 'G56', 'G57', 'G58', 'G59',\n",
       "        'G61', 'G62', 'G63', 'G64', 'G65', 'G66', 'G67', 'G68', 'G70',\n",
       "        'G71', 'G72', 'G73', 'G74', 'G75', 'G76', 'G78', 'G79', 'G80',\n",
       "        'G81', 'G82', 'G83', 'G85', 'G86', 'G87', 'G88', 'G89', 'G90',\n",
       "        'G91', 'G92', 'G93', 'G94', 'G95', 'G96', 'G97', 'G98', 'G99'], dtype=object),\n",
       " array([ 1,  2,  3,  4,  5,  6,  7,  8, 10, 11, 12, 13, 14, 15, 16, 17, 18,\n",
       "        19, 20, 21, 22, 23, 24, 25, 26, 27, 28, 29, 30, 31, 32, 33, 34, 35,\n",
       "        36, 37, 38, 39, 40, 41, 42, 43, 44, 45, 46, 47, 48, 49, 50, 51, 52,\n",
       "        53, 54, 55, 56, 57, 58, 59, 60, 61, 62, 63, 64, 65, 66, 67, 68, 69,\n",
       "        70, 71, 72, 73, 74, 75, 76, 77, 78, 79, 80, 81, 82, 83, 84]))"
      ]
     },
     "execution_count": 102,
     "metadata": {},
     "output_type": "execute_result"
    }
   ],
   "source": [
    "### G10\n",
    "curr_gene = df_genelist.iloc[1]\n",
    "df_train, df_test = read_csv(curr_gene.values[0])\n",
    "X, y, Xt, yt = get_train_test(df_train, df_test)\n",
    "get_suppresed_genes_and_rows(X, curr_gene.values[0], df_genelist)\n"
   ]
  },
  {
   "cell_type": "code",
   "execution_count": 103,
   "metadata": {
    "collapsed": false
   },
   "outputs": [
    {
     "data": {
      "text/plain": [
       "(array(['G1', 'G2', 'G4', 'G5', 'G6', 'G7', 'G8', 'G9', 'G10', 'G11', 'G12',\n",
       "        'G13', 'G14', 'G16', 'G18', 'G19', 'G21', 'G22', 'G24', 'G25',\n",
       "        'G26', 'G28', 'G29', 'G30', 'G33', 'G34', 'G35', 'G36', 'G38',\n",
       "        'G40', 'G41', 'G42', 'G43', 'G44', 'G45', 'G46', 'G47', 'G48',\n",
       "        'G49', 'G50', 'G51', 'G52', 'G55', 'G56', 'G57', 'G58', 'G59',\n",
       "        'G61', 'G62', 'G63', 'G64', 'G65', 'G66', 'G67', 'G68', 'G70',\n",
       "        'G71', 'G72', 'G73', 'G74', 'G75', 'G76', 'G78', 'G79', 'G80',\n",
       "        'G81', 'G82', 'G83', 'G85', 'G86', 'G87', 'G88', 'G89', 'G90',\n",
       "        'G91', 'G92', 'G93', 'G94', 'G95', 'G96', 'G97', 'G98', 'G99'], dtype=object),\n",
       " array([ 1,  2,  3,  4,  5,  6,  7,  8,  9, 10, 11, 12, 13, 15, 16, 17, 18,\n",
       "        19, 20, 21, 22, 23, 24, 25, 26, 27, 28, 29, 30, 31, 32, 33, 34, 35,\n",
       "        36, 37, 38, 39, 40, 41, 42, 43, 44, 45, 46, 47, 48, 49, 50, 51, 52,\n",
       "        53, 54, 55, 56, 57, 58, 59, 60, 61, 62, 63, 64, 65, 66, 67, 68, 69,\n",
       "        70, 71, 72, 73, 74, 75, 76, 77, 78, 79, 80, 81, 82, 83, 84]))"
      ]
     },
     "execution_count": 103,
     "metadata": {},
     "output_type": "execute_result"
    }
   ],
   "source": [
    "### G15\n",
    "curr_gene = df_genelist.iloc[2]\n",
    "df_train, df_test = read_csv(curr_gene.values[0])\n",
    "X, y, Xt, yt = get_train_test(df_train, df_test)\n",
    "get_suppresed_genes_and_rows(X, curr_gene.values[0], df_genelist)\n"
   ]
  },
  {
   "cell_type": "code",
   "execution_count": null,
   "metadata": {
    "collapsed": true
   },
   "outputs": [],
   "source": []
  }
 ],
 "metadata": {
  "kernelspec": {
   "display_name": "Python 2",
   "language": "python",
   "name": "python2"
  },
  "language_info": {
   "codemirror_mode": {
    "name": "ipython",
    "version": 2
   },
   "file_extension": ".py",
   "mimetype": "text/x-python",
   "name": "python",
   "nbconvert_exporter": "python",
   "pygments_lexer": "ipython2",
   "version": "2.7.13"
  }
 },
 "nbformat": 4,
 "nbformat_minor": 0
}
